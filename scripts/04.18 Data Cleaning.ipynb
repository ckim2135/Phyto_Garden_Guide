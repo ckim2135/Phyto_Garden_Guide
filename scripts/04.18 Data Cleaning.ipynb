{
 "cells": [
  {
   "cell_type": "code",
   "execution_count": 1,
   "id": "8f54f6c4",
   "metadata": {},
   "outputs": [],
   "source": [
    "import pandas as pd\n",
    "from tabula import read_pdf\n",
    "from tabulate import tabulate\n",
    "import re"
   ]
  },
  {
   "cell_type": "code",
   "execution_count": 2,
   "id": "fb77ecb4",
   "metadata": {},
   "outputs": [],
   "source": [
    "#create dataframe from USDA Plants Database Download\n",
    "plants_df = pd.read_csv('../data/USDA/USDA Plants Database Download.txt')"
   ]
  },
  {
   "cell_type": "code",
   "execution_count": 3,
   "id": "ef104031",
   "metadata": {},
   "outputs": [
    {
     "data": {
      "text/html": [
       "<div>\n",
       "<style scoped>\n",
       "    .dataframe tbody tr th:only-of-type {\n",
       "        vertical-align: middle;\n",
       "    }\n",
       "\n",
       "    .dataframe tbody tr th {\n",
       "        vertical-align: top;\n",
       "    }\n",
       "\n",
       "    .dataframe thead th {\n",
       "        text-align: right;\n",
       "    }\n",
       "</style>\n",
       "<table border=\"1\" class=\"dataframe\">\n",
       "  <thead>\n",
       "    <tr style=\"text-align: right;\">\n",
       "      <th></th>\n",
       "      <th>Symbol</th>\n",
       "      <th>Synonym Symbol</th>\n",
       "      <th>Scientific Name with Author</th>\n",
       "      <th>Common Name</th>\n",
       "      <th>Family</th>\n",
       "      <th>Genus</th>\n",
       "      <th>Species</th>\n",
       "    </tr>\n",
       "  </thead>\n",
       "  <tbody>\n",
       "    <tr>\n",
       "      <th>0</th>\n",
       "      <td>ABAB</td>\n",
       "      <td>NaN</td>\n",
       "      <td>Abutilon abutiloides (Jacq.) Garcke ex Hochr.</td>\n",
       "      <td>shrubby Indian mallow</td>\n",
       "      <td>Malvaceae</td>\n",
       "      <td>Abutilon</td>\n",
       "      <td>abutiloides</td>\n",
       "    </tr>\n",
       "    <tr>\n",
       "      <th>1</th>\n",
       "      <td>ABAB</td>\n",
       "      <td>ABAM5</td>\n",
       "      <td>Abutilon americanum (L.) Sweet</td>\n",
       "      <td>NaN</td>\n",
       "      <td>NaN</td>\n",
       "      <td>Abutilon</td>\n",
       "      <td>americanum</td>\n",
       "    </tr>\n",
       "    <tr>\n",
       "      <th>2</th>\n",
       "      <td>ABAB</td>\n",
       "      <td>ABJA</td>\n",
       "      <td>Abutilon jacquinii G. Don</td>\n",
       "      <td>NaN</td>\n",
       "      <td>NaN</td>\n",
       "      <td>Abutilon</td>\n",
       "      <td>jacquinii</td>\n",
       "    </tr>\n",
       "    <tr>\n",
       "      <th>3</th>\n",
       "      <td>ABAB</td>\n",
       "      <td>ABLI</td>\n",
       "      <td>Abutilon lignosum (Cav.) G. Don</td>\n",
       "      <td>NaN</td>\n",
       "      <td>NaN</td>\n",
       "      <td>Abutilon</td>\n",
       "      <td>lignosum</td>\n",
       "    </tr>\n",
       "    <tr>\n",
       "      <th>4</th>\n",
       "      <td>ABAB70</td>\n",
       "      <td>NaN</td>\n",
       "      <td>Abietinella abietina (Hedw.) Fleisch.</td>\n",
       "      <td>abietinella moss</td>\n",
       "      <td>Thuidiaceae</td>\n",
       "      <td>Abietinella</td>\n",
       "      <td>abietina</td>\n",
       "    </tr>\n",
       "  </tbody>\n",
       "</table>\n",
       "</div>"
      ],
      "text/plain": [
       "   Symbol Synonym Symbol                    Scientific Name with Author  \\\n",
       "0    ABAB            NaN  Abutilon abutiloides (Jacq.) Garcke ex Hochr.   \n",
       "1    ABAB          ABAM5                 Abutilon americanum (L.) Sweet   \n",
       "2    ABAB           ABJA                      Abutilon jacquinii G. Don   \n",
       "3    ABAB           ABLI                Abutilon lignosum (Cav.) G. Don   \n",
       "4  ABAB70            NaN          Abietinella abietina (Hedw.) Fleisch.   \n",
       "\n",
       "             Common Name       Family        Genus      Species  \n",
       "0  shrubby Indian mallow    Malvaceae     Abutilon  abutiloides  \n",
       "1                    NaN          NaN     Abutilon   americanum  \n",
       "2                    NaN          NaN     Abutilon    jacquinii  \n",
       "3                    NaN          NaN     Abutilon     lignosum  \n",
       "4       abietinella moss  Thuidiaceae  Abietinella     abietina  "
      ]
     },
     "execution_count": 3,
     "metadata": {},
     "output_type": "execute_result"
    }
   ],
   "source": [
    "#clean scientific name, add genus and species columns\n",
    "plants_df['Genus'] = [x.split()[0] for x in plants_df['Scientific Name with Author']]\n",
    "plants_df['Species'] = [x.split()[1] for x in plants_df['Scientific Name with Author']]\n",
    "plants_df.head()"
   ]
  },
  {
   "cell_type": "code",
   "execution_count": 4,
   "id": "289b4822",
   "metadata": {},
   "outputs": [],
   "source": [
    "#create list of unique plant genera\n",
    "plants_genera = plants_df.Genus.drop_duplicates().sort_values().to_list()"
   ]
  },
  {
   "cell_type": "code",
   "execution_count": 5,
   "id": "be6c7628",
   "metadata": {},
   "outputs": [],
   "source": [
    "airpdf = read_pdf(\"../data/WildOnes/PHYTOREMEDIATION OF AIR POLLUTANTS.pdf\", pages = \"all\", multiple_tables=True)"
   ]
  },
  {
   "cell_type": "code",
   "execution_count": 6,
   "id": "359b90bb",
   "metadata": {},
   "outputs": [],
   "source": [
    "chlorpdf = read_pdf(\"../data/WildOnes/PHYTOREMEDIATION OF CHLORINATED SOLVENTS.pdf\", pages = \"all\", multiple_tables=True)"
   ]
  },
  {
   "cell_type": "code",
   "execution_count": 7,
   "id": "424b0f29",
   "metadata": {},
   "outputs": [],
   "source": [
    "pesticidespdf = read_pdf(\"../data/WildOnes/PHYTOREMEDIATION OF PESTICIDES.pdf\", pages = \"all\", multiple_tables=True)"
   ]
  },
  {
   "cell_type": "code",
   "execution_count": 8,
   "id": "3a96bf40",
   "metadata": {},
   "outputs": [],
   "source": [
    "petrolpdf = read_pdf(\"../data/WildOnes/PHYTOREMEDIATION OF PETROLEUM.pdf\", pages = \"all\", multiple_tables=True)"
   ]
  },
  {
   "cell_type": "code",
   "execution_count": 33,
   "id": "a3b941a1",
   "metadata": {},
   "outputs": [],
   "source": [
    "#create dictionary of species present in pdf\n",
    "#genus:[species]\n",
    "\n",
    "air_dict = {}\n",
    "\n",
    "for genus in plants_genera:\n",
    "    if len(re.findall(f'({genus}\\\\s\\w*?)\\W', str(airpdf), re.IGNORECASE)) > 0:\n",
    "        air_dict[genus] = re.findall(f'({genus}\\\\s\\w*?)\\W', str(airpdf), re.IGNORECASE)   "
   ]
  },
  {
   "cell_type": "code",
   "execution_count": 34,
   "id": "2f746623",
   "metadata": {},
   "outputs": [
    {
     "data": {
      "text/plain": [
       "{'Fraxinus': ['Fraxinus pennsylvanica'],\n",
       " 'Juniperus': ['Juniperus virginiana'],\n",
       " 'Physocarpus': ['Physocarpus opulifolius'],\n",
       " 'Pinus': ['Pinus echinata'],\n",
       " 'Quercus': ['Quercus rubra'],\n",
       " 'Robinia': ['Robinia pseudoacacia']}"
      ]
     },
     "execution_count": 34,
     "metadata": {},
     "output_type": "execute_result"
    }
   ],
   "source": [
    "#clean\n",
    "air_dict.pop('Acacia')\n",
    "air_dict.pop('Amelanchier')\n",
    "air_dict.pop('Tilia')\n",
    "air_dict.pop('Ulmus')\n",
    "air_dict['Juniperus'] = ['Juniperus virginiana']\n",
    "air_dict"
   ]
  },
  {
   "cell_type": "code",
   "execution_count": 12,
   "id": "6f4ee43e",
   "metadata": {},
   "outputs": [],
   "source": [
    "#create dictionary of species present in pdf\n",
    "#genus:[species]\n",
    "\n",
    "chlor_dict = {}\n",
    "\n",
    "for genus in plants_genera:\n",
    "    if len(re.findall(f'({genus}\\\\s\\w*?)\\W', str(chlorpdf), re.IGNORECASE)) > 0:\n",
    "        chlor_dict[genus] = re.findall(f'({genus}\\\\s\\w*?)\\W', str(chlorpdf), re.IGNORECASE)          "
   ]
  },
  {
   "cell_type": "code",
   "execution_count": 13,
   "id": "0ce37795",
   "metadata": {},
   "outputs": [],
   "source": [
    "#clean\n",
    "chlor_dict['Liquidambar'][0] = 'Liquidambar styraciflua'\n",
    "chlor_dict['Platanus'][0] = 'Platanus occidentalis'\n",
    "chlor_dict['Solidago'][6] = 'Solidago missouriensis'\n",
    "chlor_dict['Tripsacum'][0] = 'Tripsacum dactyloides'"
   ]
  },
  {
   "cell_type": "code",
   "execution_count": 14,
   "id": "92016008",
   "metadata": {},
   "outputs": [
    {
     "data": {
      "text/plain": [
       "['radula ']"
      ]
     },
     "execution_count": 14,
     "metadata": {},
     "output_type": "execute_result"
    }
   ],
   "source": [
    "#clean\n",
    "chlor_dict.pop('Radula')"
   ]
  },
  {
   "cell_type": "code",
   "execution_count": 16,
   "id": "acafbfd2",
   "metadata": {},
   "outputs": [],
   "source": [
    "#create dictionary of species present in pdf\n",
    "#genus:[species]\n",
    "\n",
    "pesticides_dict = {}\n",
    "\n",
    "for genus in plants_genera:\n",
    "    if len(re.findall(f'({genus}\\\\s\\w*?)\\W', str(pesticidespdf), re.IGNORECASE)) > 0:\n",
    "        pesticides_dict[genus] = re.findall(f'({genus}\\\\s\\w*?)\\W', str(pesticidespdf), re.IGNORECASE)   "
   ]
  },
  {
   "cell_type": "code",
   "execution_count": 17,
   "id": "4522bce5",
   "metadata": {},
   "outputs": [
    {
     "data": {
      "text/plain": [
       "{'Andropogon': ['Andropogon gerardii'],\n",
       " 'Betula': ['Betula nigra'],\n",
       " 'Ceratophyllum': ['Ceratophyllum demersum'],\n",
       " 'Elodea': ['Elodea canadensis'],\n",
       " 'Juncus': ['Juncus effusus'],\n",
       " 'Lemna': ['Lemna minor'],\n",
       " 'Morus': ['Morus rubra'],\n",
       " 'Panicum': ['Panicum virgatum'],\n",
       " 'Populus': ['Populus deltoides'],\n",
       " 'Salix': ['Salix nigra'],\n",
       " 'Sorghastrum': ['Sorghastrum nutans'],\n",
       " 'Tripsacum': ['Tripsacum dactyloides'],\n",
       " 'Typha': ['Typha domingensis', 'Typha latifolia']}"
      ]
     },
     "execution_count": 17,
     "metadata": {},
     "output_type": "execute_result"
    }
   ],
   "source": [
    "#clean\n",
    "pesticides_dict['Andropogon'][0] = 'Andropogon gerardii'\n",
    "pesticides_dict['Ceratophyllum'][0] = 'Ceratophyllum demersum'\n",
    "pesticides_dict['Elodea'][0] = 'Elodea canadensis'\n",
    "pesticides_dict['Panicum'][0] = 'Panicum virgatum'\n",
    "pesticides_dict['Populus'][0] = 'Populus deltoides'\n",
    "pesticides_dict['Salix'] = ['Salix nigra']\n",
    "pesticides_dict['Sorghastrum'] = ['Sorghastrum nutans']\n",
    "pesticides_dict['Tripsacum'] = ['Tripsacum dactyloides']\n",
    "pesticides_dict['Typha'] = ['Typha domingensis', 'Typha latifolia']\n",
    "pesticides_dict"
   ]
  },
  {
   "cell_type": "code",
   "execution_count": 18,
   "id": "a9b99395",
   "metadata": {},
   "outputs": [],
   "source": [
    "#create dictionary of species present in pdf\n",
    "#genus:[species]\n",
    "\n",
    "petrol_dict = {}\n",
    "\n",
    "for genus in plants_genera:\n",
    "    if len(re.findall(f'({genus}\\\\s\\w*?)\\W', str(petrolpdf), re.IGNORECASE)) > 0:\n",
    "        petrol_dict[genus] = re.findall(f'({genus}\\\\s\\w*?)\\W', str(petrolpdf), re.IGNORECASE)  "
   ]
  },
  {
   "cell_type": "code",
   "execution_count": 19,
   "id": "e6c07d3d",
   "metadata": {},
   "outputs": [],
   "source": [
    "#clean\n",
    "petrol_dict['Bouteloua'][0] = 'Bouteloua curtipendula'\n",
    "petrol_dict['Fraxinus'][0] = 'Fraxinus pennsylvanica'\n",
    "petrol_dict['Robinia'][0] = 'Robinia pseudoacacia'\n",
    "petrol_dict['Schizachyrium'][0] = 'Schizachyrium scoparium'\n",
    "petrol_dict['Solidago'][6] = 'Solidago missouriensis'\n",
    "petrol_dict['Tripsacum'][0] = 'Tripsacum dactyloides'"
   ]
  },
  {
   "cell_type": "code",
   "execution_count": 20,
   "id": "b48aa598",
   "metadata": {},
   "outputs": [
    {
     "data": {
      "text/plain": [
       "['radula TPH']"
      ]
     },
     "execution_count": 20,
     "metadata": {},
     "output_type": "execute_result"
    }
   ],
   "source": [
    "#clean\n",
    "petrol_dict.pop('Acacia')\n",
    "petrol_dict.pop('Erinus')\n",
    "petrol_dict.pop('Hystrix')\n",
    "petrol_dict.pop('Radula')"
   ]
  },
  {
   "cell_type": "code",
   "execution_count": 21,
   "id": "910ab71b",
   "metadata": {
    "scrolled": true
   },
   "outputs": [
    {
     "data": {
      "text/plain": [
       "{'Andropogon': ['Andropogon gerardii'],\n",
       " 'Bouteloua': ['Bouteloua curtipendula', 'Bouteloua gracilis'],\n",
       " 'Carex': ['Carex cephalophora', 'Carex stricta'],\n",
       " 'Celtis': ['Celtis occidentalis'],\n",
       " 'Cercis': ['Cercis canadensis'],\n",
       " 'Elymus': ['Elymus canadensis', 'Elymus hystrix'],\n",
       " 'Fraxinus': ['Fraxinus pennsylvanica'],\n",
       " 'Gleditsia': ['Gleditsia triacanthos'],\n",
       " 'Helianthus': ['Helianthus annuus'],\n",
       " 'Juncus': ['Juncus effusus'],\n",
       " 'Juniperus': ['Juniperus virginiana'],\n",
       " 'Morus': ['Morus rubra'],\n",
       " 'Panicum': ['Panicum virgatum'],\n",
       " 'Pinus': ['Pinus echinata'],\n",
       " 'Populus': ['Populus deltoides'],\n",
       " 'Quercus': ['Quercus macrocarpa', 'Quercus phellos'],\n",
       " 'Robinia': ['Robinia pseudoacacia'],\n",
       " 'Sagittaria': ['Sagittaria latifolia'],\n",
       " 'Salix': ['Salix caroliniana',\n",
       "  'Salix eriocephala',\n",
       "  'Salix humilis',\n",
       "  'Salix interior',\n",
       "  'Salix nigra'],\n",
       " 'Schizachyrium': ['Schizachyrium scoparium'],\n",
       " 'Scirpus': ['Scirpus atrovirens',\n",
       "  'Scirpus cyperinus',\n",
       "  'Scirpus georgianus',\n",
       "  'Scirpus pendulus'],\n",
       " 'Senna': ['Senna obtusifolia'],\n",
       " 'Solidago': ['Solidago altissima',\n",
       "  'Solidago arguta',\n",
       "  'Solidago caesia',\n",
       "  'Solidago flexicaulis',\n",
       "  'Solidago gigantea',\n",
       "  'Solidago hispida',\n",
       "  'Solidago missouriensis',\n",
       "  'Solidago nemoralis',\n",
       "  'Solidago odora',\n",
       "  'Solidago petiolaris',\n",
       "  'Solidago radula',\n",
       "  'Solidago rigida',\n",
       "  'Solidago rugosa',\n",
       "  'Solidago speciosa',\n",
       "  'Solidago ulmifolia'],\n",
       " 'Sorghastrum': ['Sorghastrum nutans'],\n",
       " 'Spartina': ['Spartina pectinata'],\n",
       " 'Tripsacum': ['Tripsacum dactyloides'],\n",
       " 'Typha': ['Typha domingensis', 'Typha latifolia']}"
      ]
     },
     "execution_count": 21,
     "metadata": {},
     "output_type": "execute_result"
    }
   ],
   "source": [
    "petrol_dict"
   ]
  },
  {
   "cell_type": "code",
   "execution_count": 22,
   "id": "a262c910",
   "metadata": {},
   "outputs": [],
   "source": [
    "# heavy metals pdf special case - manually created dictionaries\n",
    "# example of code that was initially attempted before deciding manual\n",
    "\n",
    "# file = \"../data/WildOnes/PHYTOREMEDIATION OF HEAVY METALS.pdf\"\n",
    "# metalsall_df = read_pdf(file, lattice = True, pages=\"all\")\n",
    "# cd_df = read_pdf(file, lattice = True, pages=[1,2,3])\n",
    "# cr_df = read_pdf(file, lattice = True, pages=4)\n",
    "# cu_df = read_pdf(file, lattice = True, pages=5)\n",
    "# pb_df = read_pdf(file, lattice = True, pages=6)\n",
    "# ni_df = read_pdf(file, lattice = True, pages=7)\n",
    "# zn_df = read_pdf(file, lattice = True, pages=8)"
   ]
  },
  {
   "cell_type": "code",
   "execution_count": 24,
   "id": "ce2aa624",
   "metadata": {},
   "outputs": [],
   "source": [
    "# example of code that was initially attempted before deciding manual\n",
    "# for genus in plants_genera:\n",
    "#        if len(re.findall(f'({genus}\\\\s[a-z]*?)\\W', str(cr_df))) > 0:\n",
    "#         cr_dict[genus] = re.findall(f'({genus}\\\\s[a-z]*?)\\W', str(cr_df))  "
   ]
  },
  {
   "cell_type": "code",
   "execution_count": 25,
   "id": "6615f96b",
   "metadata": {},
   "outputs": [
    {
     "data": {
      "text/plain": [
       "{'Achillea': ['Achillea millefolium'],\n",
       " 'Carex': ['Carex vulpinoidea'],\n",
       " 'Conyza': ['Conyza canadensis'],\n",
       " 'Elodea': ['Elodea canadensis'],\n",
       " 'Eupatorium': ['Eupatorium capillifolium'],\n",
       " 'Helianthus': ['Helianthus Annuus', 'Helianthus tuberosus'],\n",
       " 'Ilex': ['Ilex decidua', 'Ilex opaca'],\n",
       " 'Panicum': ['Panicum virgatum'],\n",
       " 'Salix': ['Salix caroliniana',\n",
       "  'Salix eriocephala',\n",
       "  'Salix interior',\n",
       "  'Salix humilis',\n",
       "  'Salix nigra'],\n",
       " 'Spartina': ['Spartina petinata'],\n",
       " 'Spirodela': ['Spirodela polyrhiza'],\n",
       " 'Viola': ['Viola bicolor',\n",
       "  'Viola lanceolata',\n",
       "  'Viola missouriensis',\n",
       "  'Viola nephrophylla',\n",
       "  'Viola palmata',\n",
       "  'Viola pedata',\n",
       "  'Viola pubescens',\n",
       "  'Viola sagittata',\n",
       "  'Viola sororia',\n",
       "  'Viola striata',\n",
       "  'Viola subsinuata',\n",
       "  'Viola villosa']}"
      ]
     },
     "execution_count": 25,
     "metadata": {},
     "output_type": "execute_result"
    }
   ],
   "source": [
    "cd_dict = {}\n",
    "cd_dict['Achillea'] = ['Achillea millefolium']\n",
    "cd_dict['Carex'] = ['Carex vulpinoidea']\n",
    "cd_dict['Conyza'] = ['Conyza canadensis']\n",
    "cd_dict['Elodea'] = ['Elodea canadensis']\n",
    "cd_dict['Eupatorium'] = ['Eupatorium capillifolium']\n",
    "cd_dict['Helianthus'] = ['Helianthus Annuus', 'Helianthus tuberosus']\n",
    "cd_dict['Ilex'] = ['Ilex decidua', 'Ilex opaca']\n",
    "cd_dict['Panicum'] = ['Panicum virgatum']\n",
    "cd_dict['Salix'] = ['Salix caroliniana', 'Salix eriocephala', 'Salix interior', 'Salix humilis', 'Salix nigra']\n",
    "cd_dict['Spartina'] = ['Spartina petinata']\n",
    "cd_dict['Spirodela'] = ['Spirodela polyrhiza']\n",
    "cd_dict['Viola'] = ['Viola bicolor', 'Viola lanceolata', 'Viola missouriensis', 'Viola nephrophylla', 'Viola palmata', 'Viola pedata', 'Viola pubescens', 'Viola sagittata', 'Viola sororia', 'Viola striata', 'Viola subsinuata', 'Viola villosa']\n",
    "cd_dict"
   ]
  },
  {
   "cell_type": "code",
   "execution_count": 26,
   "id": "40d86357",
   "metadata": {},
   "outputs": [
    {
     "data": {
      "text/plain": [
       "{'Lemna': ['Lemna minor'],\n",
       " 'Nymphaea': ['Nymphaea odorata'],\n",
       " 'Persicaria': ['Persicaria lapathifolia'],\n",
       " 'Salix': ['Salix interior',\n",
       "  'Salix humilis',\n",
       "  'Salix nigra',\n",
       "  'Salix humilis',\n",
       "  'Salix interior',\n",
       "  'Salix humilis',\n",
       "  'Salix nigra']}"
      ]
     },
     "execution_count": 26,
     "metadata": {},
     "output_type": "execute_result"
    }
   ],
   "source": [
    "cr_dict = {}\n",
    "cr_dict['Lemna'] = ['Lemna minor']\n",
    "cr_dict['Nymphaea'] = ['Nymphaea odorata']\n",
    "cr_dict['Persicaria'] = ['Persicaria lapathifolia']\n",
    "cr_dict['Salix'] = ['Salix interior',\n",
    "  'Salix humilis',\n",
    "  'Salix nigra',\n",
    "  'Salix humilis',\n",
    "  'Salix interior',\n",
    "  'Salix humilis',\n",
    "  'Salix nigra']\n",
    "cr_dict"
   ]
  },
  {
   "cell_type": "code",
   "execution_count": 27,
   "id": "0cf70023",
   "metadata": {},
   "outputs": [
    {
     "data": {
      "text/plain": [
       "{'Amorpha': ['Amorpha fruticosa'],\n",
       " 'Andropogon': ['Andropogon gerardii'],\n",
       " 'Bouteloua': ['Bouteloua curtipendula'],\n",
       " 'Carex': ['Carex vulpinoidea'],\n",
       " 'Elodea': ['Elodea canadensis'],\n",
       " 'Helianthus': ['Helianthus annuus'],\n",
       " 'Lemna': ['Lemna minor'],\n",
       " 'Nymphaea': ['Nymphaea odorata'],\n",
       " 'Persicaria': ['Persicaria lapathifolia'],\n",
       " 'Salix': ['Salix caroliniana',\n",
       "  'Salix eriocephala',\n",
       "  'Salix interior',\n",
       "  'Salix humilis',\n",
       "  'Salix nigra'],\n",
       " 'Schizachyrium': ['Schizachyrium scoparium'],\n",
       " 'Spartina': ['Spartina pectinata']}"
      ]
     },
     "execution_count": 27,
     "metadata": {},
     "output_type": "execute_result"
    }
   ],
   "source": [
    "cu_dict = {}\n",
    "cu_dict['Amorpha'] = ['Amorpha fruticosa']\n",
    "cu_dict['Andropogon'] = ['Andropogon gerardii']\n",
    "cu_dict['Bouteloua'] = ['Bouteloua curtipendula']\n",
    "cu_dict['Carex'] = ['Carex vulpinoidea']\n",
    "cu_dict['Elodea'] = ['Elodea canadensis']\n",
    "cu_dict['Helianthus'] = ['Helianthus annuus']\n",
    "cu_dict['Lemna'] = ['Lemna minor']\n",
    "cu_dict['Nymphaea'] = ['Nymphaea odorata']\n",
    "cu_dict['Persicaria'] = ['Persicaria lapathifolia']\n",
    "cu_dict['Salix'] = ['Salix caroliniana', 'Salix eriocephala', 'Salix interior', 'Salix humilis', 'Salix nigra']\n",
    "cu_dict['Schizachyrium'] = ['Schizachyrium scoparium']\n",
    "cu_dict['Spartina'] = ['Spartina pectinata']\n",
    "cu_dict"
   ]
  },
  {
   "cell_type": "code",
   "execution_count": 28,
   "id": "bfd92fc0",
   "metadata": {},
   "outputs": [
    {
     "data": {
      "text/plain": [
       "{'Ambrosia': ['Abrosia artemisiifolia'],\n",
       " 'Amorpha': ['Amorpha fruticosa'],\n",
       " 'Bouteloua': ['Bouteloua curtipendula'],\n",
       " 'Carex': ['Carex vulpinoidea'],\n",
       " 'Elodea': ['Elodea canadensis'],\n",
       " 'Gleditsia': ['Gleditsia triacanthos'],\n",
       " 'Lemna': ['Lemna minor'],\n",
       " 'Persicaria': ['Persicaria lapathifolia'],\n",
       " 'Panicum': ['Panicum virgatum'],\n",
       " 'Tripsacum': ['Tripsacum dactyloides'],\n",
       " 'Typha': ['Typa latifolia']}"
      ]
     },
     "execution_count": 28,
     "metadata": {},
     "output_type": "execute_result"
    }
   ],
   "source": [
    "pb_dict = {}\n",
    "pb_dict['Ambrosia'] = ['Abrosia artemisiifolia']\n",
    "pb_dict['Amorpha'] = ['Amorpha fruticosa']\n",
    "pb_dict['Bouteloua'] = ['Bouteloua curtipendula']\n",
    "pb_dict['Carex'] = ['Carex vulpinoidea']\n",
    "pb_dict['Elodea'] = ['Elodea canadensis']\n",
    "pb_dict['Gleditsia'] = ['Gleditsia triacanthos']\n",
    "pb_dict['Lemna'] = ['Lemna minor']\n",
    "pb_dict['Persicaria'] = ['Persicaria lapathifolia']\n",
    "pb_dict['Panicum'] = ['Panicum virgatum']\n",
    "pb_dict['Tripsacum'] = ['Tripsacum dactyloides']\n",
    "pb_dict['Typha'] = ['Typa latifolia']\n",
    "pb_dict"
   ]
  },
  {
   "cell_type": "code",
   "execution_count": 29,
   "id": "bcde6b8e",
   "metadata": {},
   "outputs": [
    {
     "data": {
      "text/plain": [
       "{'Conyza': ['Conyza canadensis'],\n",
       " 'Eupatorium': ['Eupatorium capillifolium'],\n",
       " 'Helianthus': ['Helianthus annuus'],\n",
       " 'Lemna': ['Lemna minor'],\n",
       " 'Robinia': ['Robinia pseudoacacia'],\n",
       " 'Salix': ['Salix caroliniana',\n",
       "  'Salix eriocephala',\n",
       "  'Salix interior',\n",
       "  'Salix humilis',\n",
       "  'Salix nigra'],\n",
       " 'Packera': ['Packera pauperculus'],\n",
       " 'Solidago': ['Solidago hispida']}"
      ]
     },
     "execution_count": 29,
     "metadata": {},
     "output_type": "execute_result"
    }
   ],
   "source": [
    "ni_dict = {}\n",
    "ni_dict['Conyza'] = ['Conyza canadensis']\n",
    "ni_dict['Eupatorium'] = ['Eupatorium capillifolium']\n",
    "ni_dict['Helianthus'] = ['Helianthus annuus']\n",
    "ni_dict['Lemna'] = ['Lemna minor']\n",
    "ni_dict['Robinia'] = ['Robinia pseudoacacia']\n",
    "ni_dict['Salix'] = ['Salix caroliniana', 'Salix eriocephala', 'Salix interior', 'Salix humilis', 'Salix nigra']\n",
    "ni_dict['Packera'] = ['Packera pauperculus']\n",
    "ni_dict['Solidago'] = ['Solidago hispida']\n",
    "ni_dict"
   ]
  },
  {
   "cell_type": "code",
   "execution_count": 30,
   "id": "1be11602",
   "metadata": {},
   "outputs": [
    {
     "data": {
      "text/plain": [
       "{'Bouteloua': ['Bouteloua curtipendula'],\n",
       " 'Conyza': ['Conyza canadensis'],\n",
       " 'Helianthus': ['Helianthus annuus'],\n",
       " 'Salix': ['Salix caroliniana',\n",
       "  'Salix eriocephala',\n",
       "  'Salix interior',\n",
       "  'Salix humilis',\n",
       "  'Salix nigra'],\n",
       " 'Tripsacum': ['Tripsacum dactyloides']}"
      ]
     },
     "execution_count": 30,
     "metadata": {},
     "output_type": "execute_result"
    }
   ],
   "source": [
    "zn_dict = {}\n",
    "zn_dict['Bouteloua'] = ['Bouteloua curtipendula']\n",
    "zn_dict['Conyza'] = ['Conyza canadensis']\n",
    "zn_dict['Helianthus'] = ['Helianthus annuus']\n",
    "zn_dict['Salix'] = ['Salix caroliniana', 'Salix eriocephala', 'Salix interior', 'Salix humilis', 'Salix nigra']\n",
    "zn_dict['Tripsacum'] = ['Tripsacum dactyloides']\n",
    "zn_dict"
   ]
  },
  {
   "cell_type": "code",
   "execution_count": null,
   "id": "d06a4f6d",
   "metadata": {},
   "outputs": [],
   "source": [
    "#  List of dictionaries:\n",
    "#  'air_dict',\n",
    "#  'cd_dict',\n",
    "#  'chlor_dict',\n",
    "#  'cr_dict',\n",
    "#  'cu_dict',\n",
    "#  'ni_dict',\n",
    "#  'pb_dict',\n",
    "#  'pesticides_dict',\n",
    "#  'petrol_dict',\n",
    "#  'zn_dict'"
   ]
  }
 ],
 "metadata": {
  "kernelspec": {
   "display_name": "Python 3 (ipykernel)",
   "language": "python",
   "name": "python3"
  },
  "language_info": {
   "codemirror_mode": {
    "name": "ipython",
    "version": 3
   },
   "file_extension": ".py",
   "mimetype": "text/x-python",
   "name": "python",
   "nbconvert_exporter": "python",
   "pygments_lexer": "ipython3",
   "version": "3.9.13"
  }
 },
 "nbformat": 4,
 "nbformat_minor": 5
}
