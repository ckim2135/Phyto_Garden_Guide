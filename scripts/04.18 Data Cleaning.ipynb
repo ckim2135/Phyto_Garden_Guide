{
 "cells": [
  {
   "cell_type": "code",
   "execution_count": 1,
   "id": "8f54f6c4",
   "metadata": {},
   "outputs": [],
   "source": [
    "import pandas as pd\n",
    "from tabula import read_pdf\n",
    "from tabulate import tabulate\n",
    "import re"
   ]
  },
  {
   "cell_type": "code",
   "execution_count": 2,
   "id": "fb77ecb4",
   "metadata": {},
   "outputs": [],
   "source": [
    "#create dataframe from USDA Plants Database Download\n",
    "plants_df = pd.read_csv('../data/USDA/USDA Plants Database Download.txt')"
   ]
  },
  {
   "cell_type": "code",
   "execution_count": 3,
   "id": "ef104031",
   "metadata": {},
   "outputs": [
    {
     "data": {
      "text/html": [
       "<div>\n",
       "<style scoped>\n",
       "    .dataframe tbody tr th:only-of-type {\n",
       "        vertical-align: middle;\n",
       "    }\n",
       "\n",
       "    .dataframe tbody tr th {\n",
       "        vertical-align: top;\n",
       "    }\n",
       "\n",
       "    .dataframe thead th {\n",
       "        text-align: right;\n",
       "    }\n",
       "</style>\n",
       "<table border=\"1\" class=\"dataframe\">\n",
       "  <thead>\n",
       "    <tr style=\"text-align: right;\">\n",
       "      <th></th>\n",
       "      <th>Symbol</th>\n",
       "      <th>Synonym Symbol</th>\n",
       "      <th>Scientific Name with Author</th>\n",
       "      <th>Common Name</th>\n",
       "      <th>Family</th>\n",
       "      <th>Genus</th>\n",
       "      <th>Species</th>\n",
       "    </tr>\n",
       "  </thead>\n",
       "  <tbody>\n",
       "    <tr>\n",
       "      <th>0</th>\n",
       "      <td>ABAB</td>\n",
       "      <td>NaN</td>\n",
       "      <td>Abutilon abutiloides (Jacq.) Garcke ex Hochr.</td>\n",
       "      <td>shrubby Indian mallow</td>\n",
       "      <td>Malvaceae</td>\n",
       "      <td>Abutilon</td>\n",
       "      <td>abutiloides</td>\n",
       "    </tr>\n",
       "    <tr>\n",
       "      <th>1</th>\n",
       "      <td>ABAB</td>\n",
       "      <td>ABAM5</td>\n",
       "      <td>Abutilon americanum (L.) Sweet</td>\n",
       "      <td>NaN</td>\n",
       "      <td>NaN</td>\n",
       "      <td>Abutilon</td>\n",
       "      <td>americanum</td>\n",
       "    </tr>\n",
       "    <tr>\n",
       "      <th>2</th>\n",
       "      <td>ABAB</td>\n",
       "      <td>ABJA</td>\n",
       "      <td>Abutilon jacquinii G. Don</td>\n",
       "      <td>NaN</td>\n",
       "      <td>NaN</td>\n",
       "      <td>Abutilon</td>\n",
       "      <td>jacquinii</td>\n",
       "    </tr>\n",
       "    <tr>\n",
       "      <th>3</th>\n",
       "      <td>ABAB</td>\n",
       "      <td>ABLI</td>\n",
       "      <td>Abutilon lignosum (Cav.) G. Don</td>\n",
       "      <td>NaN</td>\n",
       "      <td>NaN</td>\n",
       "      <td>Abutilon</td>\n",
       "      <td>lignosum</td>\n",
       "    </tr>\n",
       "    <tr>\n",
       "      <th>4</th>\n",
       "      <td>ABAB70</td>\n",
       "      <td>NaN</td>\n",
       "      <td>Abietinella abietina (Hedw.) Fleisch.</td>\n",
       "      <td>abietinella moss</td>\n",
       "      <td>Thuidiaceae</td>\n",
       "      <td>Abietinella</td>\n",
       "      <td>abietina</td>\n",
       "    </tr>\n",
       "  </tbody>\n",
       "</table>\n",
       "</div>"
      ],
      "text/plain": [
       "   Symbol Synonym Symbol                    Scientific Name with Author  \\\n",
       "0    ABAB            NaN  Abutilon abutiloides (Jacq.) Garcke ex Hochr.   \n",
       "1    ABAB          ABAM5                 Abutilon americanum (L.) Sweet   \n",
       "2    ABAB           ABJA                      Abutilon jacquinii G. Don   \n",
       "3    ABAB           ABLI                Abutilon lignosum (Cav.) G. Don   \n",
       "4  ABAB70            NaN          Abietinella abietina (Hedw.) Fleisch.   \n",
       "\n",
       "             Common Name       Family        Genus      Species  \n",
       "0  shrubby Indian mallow    Malvaceae     Abutilon  abutiloides  \n",
       "1                    NaN          NaN     Abutilon   americanum  \n",
       "2                    NaN          NaN     Abutilon    jacquinii  \n",
       "3                    NaN          NaN     Abutilon     lignosum  \n",
       "4       abietinella moss  Thuidiaceae  Abietinella     abietina  "
      ]
     },
     "execution_count": 3,
     "metadata": {},
     "output_type": "execute_result"
    }
   ],
   "source": [
    "#clean scientific name, add genus and species columns\n",
    "plants_df['Genus'] = [x.split()[0] for x in plants_df['Scientific Name with Author']]\n",
    "plants_df['Species'] = [x.split()[1] for x in plants_df['Scientific Name with Author']]\n",
    "plants_df.head()"
   ]
  },
  {
   "cell_type": "code",
   "execution_count": 4,
   "id": "289b4822",
   "metadata": {},
   "outputs": [],
   "source": [
    "#create list of unique plant genera\n",
    "plants_genera = plants_df.Genus.drop_duplicates().sort_values().to_list()"
   ]
  },
  {
   "cell_type": "code",
   "execution_count": 5,
   "id": "be6c7628",
   "metadata": {},
   "outputs": [],
   "source": [
    "airpdf = read_pdf(\"../data/WildOnes/PHYTOREMEDIATION OF AIR POLLUTANTS.pdf\", pages = \"all\", multiple_tables=True)"
   ]
  },
  {
   "cell_type": "code",
   "execution_count": 6,
   "id": "359b90bb",
   "metadata": {},
   "outputs": [],
   "source": [
    "chlorpdf = read_pdf(\"../data/WildOnes/PHYTOREMEDIATION OF CHLORINATED SOLVENTS.pdf\", pages = \"all\", multiple_tables=True)"
   ]
  },
  {
   "cell_type": "code",
   "execution_count": 7,
   "id": "424b0f29",
   "metadata": {},
   "outputs": [],
   "source": [
    "pesticidespdf = read_pdf(\"../data/WildOnes/PHYTOREMEDIATION OF PESTICIDES.pdf\", pages = \"all\", multiple_tables=True)"
   ]
  },
  {
   "cell_type": "code",
   "execution_count": 8,
   "id": "3a96bf40",
   "metadata": {},
   "outputs": [],
   "source": [
    "petrolpdf = read_pdf(\"../data/WildOnes/PHYTOREMEDIATION OF PETROLEUM.pdf\", pages = \"all\", multiple_tables=True)"
   ]
  },
  {
   "cell_type": "code",
   "execution_count": 9,
   "id": "a3b941a1",
   "metadata": {},
   "outputs": [],
   "source": [
    "#create dictionary of species present in pdf\n",
    "#genus:[species]\n",
    "\n",
    "air_dict = {}\n",
    "\n",
    "for genus in plants_genera:\n",
    "    if len(re.findall(f'({genus}\\\\s\\w*?)\\W', str(airpdf), re.IGNORECASE)) > 0:\n",
    "        air_dict[genus] = re.findall(f'({genus}\\\\s\\w*?)\\W', str(airpdf), re.IGNORECASE)   "
   ]
  },
  {
   "cell_type": "code",
   "execution_count": 10,
   "id": "5844d136",
   "metadata": {},
   "outputs": [
    {
     "data": {
      "text/plain": [
       "['acacia Full']"
      ]
     },
     "execution_count": 10,
     "metadata": {},
     "output_type": "execute_result"
    }
   ],
   "source": [
    "#clean\n",
    "air_dict.pop('Acacia')"
   ]
  },
  {
   "cell_type": "code",
   "execution_count": 11,
   "id": "e6c4760b",
   "metadata": {},
   "outputs": [
    {
     "data": {
      "text/plain": [
       "{'Amelanchier': ['Amelanchier arborea'],\n",
       " 'Fraxinus': ['Fraxinus pennsylvanica'],\n",
       " 'Juniperus': ['Juniperus virginiana', 'Juniperus virginiana'],\n",
       " 'Physocarpus': ['Physocarpus opulifolius'],\n",
       " 'Pinus': ['Pinus echinata'],\n",
       " 'Quercus': ['Quercus rubra'],\n",
       " 'Robinia': ['Robinia pseudoacacia'],\n",
       " 'Tilia': ['Tilia americana'],\n",
       " 'Ulmus': ['Ulmus alata', 'Ulmus americana', 'Ulmus rubra']}"
      ]
     },
     "execution_count": 11,
     "metadata": {},
     "output_type": "execute_result"
    }
   ],
   "source": [
    "air_dict"
   ]
  },
  {
   "cell_type": "code",
   "execution_count": 12,
   "id": "6f4ee43e",
   "metadata": {},
   "outputs": [],
   "source": [
    "#create dictionary of species present in pdf\n",
    "#genus:[species]\n",
    "\n",
    "chlor_dict = {}\n",
    "\n",
    "for genus in plants_genera:\n",
    "    if len(re.findall(f'({genus}\\\\s\\w*?)\\W', str(chlorpdf), re.IGNORECASE)) > 0:\n",
    "        chlor_dict[genus] = re.findall(f'({genus}\\\\s\\w*?)\\W', str(chlorpdf), re.IGNORECASE)          "
   ]
  },
  {
   "cell_type": "code",
   "execution_count": 13,
   "id": "0ce37795",
   "metadata": {},
   "outputs": [],
   "source": [
    "#clean\n",
    "chlor_dict['Liquidambar'][0] = 'Liquidambar styraciflua'\n",
    "chlor_dict['Platanus'][0] = 'Platanus occidentalis'\n",
    "chlor_dict['Solidago'][6] = 'Solidago missouriensis'\n",
    "chlor_dict['Tripsacum'][0] = 'Tripsacum dactyloides'"
   ]
  },
  {
   "cell_type": "code",
   "execution_count": 14,
   "id": "92016008",
   "metadata": {},
   "outputs": [
    {
     "data": {
      "text/plain": [
       "['radula ']"
      ]
     },
     "execution_count": 14,
     "metadata": {},
     "output_type": "execute_result"
    }
   ],
   "source": [
    "#clean\n",
    "chlor_dict.pop('Radula')"
   ]
  },
  {
   "cell_type": "code",
   "execution_count": 15,
   "id": "f6eb0947",
   "metadata": {},
   "outputs": [
    {
     "data": {
      "text/plain": [
       "{'Acer': ['Acer saccharinum'],\n",
       " 'Betula': ['Betula nigra'],\n",
       " 'Cercis': ['Cercis canadensis'],\n",
       " 'Elodea': ['Elodea canadensis'],\n",
       " 'Liquidambar': ['Liquidambar styraciflua'],\n",
       " 'Platanus': ['Platanus occidentalis'],\n",
       " 'Populus': ['Populus deltoides'],\n",
       " 'Quercus': ['Quercus palustris'],\n",
       " 'Salix': ['Salix nigra'],\n",
       " 'Solidago': ['Solidago altissima',\n",
       "  'Solidago arguta',\n",
       "  'Solidago caesia',\n",
       "  'Solidago flexicaulis',\n",
       "  'Solidago gigantea',\n",
       "  'Solidago hispida',\n",
       "  'Solidago missouriensis',\n",
       "  'Solidago nemoralis',\n",
       "  'Solidago odora',\n",
       "  'Solidago petiolaris',\n",
       "  'Solidago radula',\n",
       "  'Solidago rigida',\n",
       "  'Solidago rugosa',\n",
       "  'Solidago speciosa',\n",
       "  'Solidago ulmifolia'],\n",
       " 'Tripsacum': ['Tripsacum dactyloides'],\n",
       " 'Typha': ['Typha domingensis', 'Typha latifolia']}"
      ]
     },
     "execution_count": 15,
     "metadata": {},
     "output_type": "execute_result"
    }
   ],
   "source": [
    "chlor_dict"
   ]
  },
  {
   "cell_type": "code",
   "execution_count": 16,
   "id": "acafbfd2",
   "metadata": {},
   "outputs": [],
   "source": [
    "#create dictionary of species present in pdf\n",
    "#genus:[species]\n",
    "\n",
    "pesticides_dict = {}\n",
    "\n",
    "for genus in plants_genera:\n",
    "    if len(re.findall(f'({genus}\\\\s\\w*?)\\W', str(pesticidespdf), re.IGNORECASE)) > 0:\n",
    "        pesticides_dict[genus] = re.findall(f'({genus}\\\\s\\w*?)\\W', str(pesticidespdf), re.IGNORECASE)   "
   ]
  },
  {
   "cell_type": "code",
   "execution_count": 17,
   "id": "4522bce5",
   "metadata": {},
   "outputs": [],
   "source": [
    "#clean\n",
    "pesticides_dict['Andropogon'][0] = 'Andropogon gerardii'\n",
    "pesticides_dict['Ceratophyllum'][0] = 'Ceratophyllum demersum'\n",
    "pesticides_dict['Elodea'][0] = 'Elodea canadensis'\n",
    "pesticides_dict['Panicum'][0] = 'Panicum virgatum'\n",
    "pesticides_dict['Populus'][0] = 'Populus deltoides'"
   ]
  },
  {
   "cell_type": "code",
   "execution_count": 18,
   "id": "3b0c3301",
   "metadata": {},
   "outputs": [
    {
     "data": {
      "text/plain": [
       "{'Andropogon': ['Andropogon gerardii'],\n",
       " 'Betula': ['Betula nigra'],\n",
       " 'Ceratophyllum': ['Ceratophyllum demersum'],\n",
       " 'Elodea': ['Elodea canadensis'],\n",
       " 'Juncus': ['Juncus effusus'],\n",
       " 'Lemna': ['Lemna minor'],\n",
       " 'Morus': ['Morus rubra'],\n",
       " 'Panicum': ['Panicum virgatum'],\n",
       " 'Populus': ['Populus deltoides']}"
      ]
     },
     "execution_count": 18,
     "metadata": {},
     "output_type": "execute_result"
    }
   ],
   "source": [
    "pesticides_dict"
   ]
  },
  {
   "cell_type": "code",
   "execution_count": 19,
   "id": "a9b99395",
   "metadata": {},
   "outputs": [],
   "source": [
    "#create dictionary of species present in pdf\n",
    "#genus:[species]\n",
    "\n",
    "petrol_dict = {}\n",
    "\n",
    "for genus in plants_genera:\n",
    "    if len(re.findall(f'({genus}\\\\s\\w*?)\\W', str(petrolpdf), re.IGNORECASE)) > 0:\n",
    "        petrol_dict[genus] = re.findall(f'({genus}\\\\s\\w*?)\\W', str(petrolpdf), re.IGNORECASE)  "
   ]
  },
  {
   "cell_type": "code",
   "execution_count": 20,
   "id": "e6c07d3d",
   "metadata": {},
   "outputs": [],
   "source": [
    "#clean\n",
    "petrol_dict['Bouteloua'][0] = 'Bouteloua curtipendula'\n",
    "petrol_dict['Fraxinus'][0] = 'Fraxinus pennsylvanica'\n",
    "petrol_dict['Robinia'][0] = 'Robinia pseudoacacia'\n",
    "petrol_dict['Schizachyrium'][0] = 'Schizachyrium scoparium'\n",
    "petrol_dict['Solidago'][6] = 'Solidago missouriensis'\n",
    "petrol_dict['Tripsacum'][0] = 'Tripsacum dactyloides'"
   ]
  },
  {
   "cell_type": "code",
   "execution_count": 21,
   "id": "b48aa598",
   "metadata": {},
   "outputs": [
    {
     "data": {
      "text/plain": [
       "['radula TPH']"
      ]
     },
     "execution_count": 21,
     "metadata": {},
     "output_type": "execute_result"
    }
   ],
   "source": [
    "#clean\n",
    "petrol_dict.pop('Acacia')\n",
    "petrol_dict.pop('Erinus')\n",
    "petrol_dict.pop('Hystrix')\n",
    "petrol_dict.pop('Radula')"
   ]
  },
  {
   "cell_type": "code",
   "execution_count": 22,
   "id": "910ab71b",
   "metadata": {},
   "outputs": [
    {
     "data": {
      "text/plain": [
       "{'Andropogon': ['Andropogon gerardii'],\n",
       " 'Bouteloua': ['Bouteloua curtipendula', 'Bouteloua gracilis'],\n",
       " 'Carex': ['Carex cephalophora', 'Carex stricta'],\n",
       " 'Celtis': ['Celtis occidentalis'],\n",
       " 'Cercis': ['Cercis canadensis'],\n",
       " 'Elymus': ['Elymus canadensis', 'Elymus hystrix'],\n",
       " 'Fraxinus': ['Fraxinus pennsylvanica'],\n",
       " 'Gleditsia': ['Gleditsia triacanthos'],\n",
       " 'Helianthus': ['Helianthus annuus'],\n",
       " 'Juncus': ['Juncus effusus'],\n",
       " 'Juniperus': ['Juniperus virginiana'],\n",
       " 'Morus': ['Morus rubra'],\n",
       " 'Panicum': ['Panicum virgatum'],\n",
       " 'Pinus': ['Pinus echinata'],\n",
       " 'Populus': ['Populus deltoides'],\n",
       " 'Quercus': ['Quercus macrocarpa', 'Quercus phellos'],\n",
       " 'Robinia': ['Robinia pseudoacacia'],\n",
       " 'Sagittaria': ['Sagittaria latifolia'],\n",
       " 'Salix': ['Salix caroliniana',\n",
       "  'Salix eriocephala',\n",
       "  'Salix humilis',\n",
       "  'Salix interior',\n",
       "  'Salix nigra'],\n",
       " 'Schizachyrium': ['Schizachyrium scoparium'],\n",
       " 'Scirpus': ['Scirpus atrovirens',\n",
       "  'Scirpus cyperinus',\n",
       "  'Scirpus georgianus',\n",
       "  'Scirpus pendulus'],\n",
       " 'Senna': ['Senna obtusifolia'],\n",
       " 'Solidago': ['Solidago altissima',\n",
       "  'Solidago arguta',\n",
       "  'Solidago caesia',\n",
       "  'Solidago flexicaulis',\n",
       "  'Solidago gigantea',\n",
       "  'Solidago hispida',\n",
       "  'Solidago missouriensis',\n",
       "  'Solidago nemoralis',\n",
       "  'Solidago odora',\n",
       "  'Solidago petiolaris',\n",
       "  'Solidago radula',\n",
       "  'Solidago rigida',\n",
       "  'Solidago rugosa',\n",
       "  'Solidago speciosa',\n",
       "  'Solidago ulmifolia'],\n",
       " 'Sorghastrum': ['Sorghastrum nutans'],\n",
       " 'Spartina': ['Spartina pectinata'],\n",
       " 'Tripsacum': ['Tripsacum dactyloides'],\n",
       " 'Typha': ['Typha domingensis', 'Typha latifolia']}"
      ]
     },
     "execution_count": 22,
     "metadata": {},
     "output_type": "execute_result"
    }
   ],
   "source": [
    "petrol_dict"
   ]
  },
  {
   "cell_type": "code",
   "execution_count": 23,
   "id": "a262c910",
   "metadata": {},
   "outputs": [],
   "source": [
    "#heavy metals pdf special case\n",
    "file = \"../data/WildOnes/PHYTOREMEDIATION OF HEAVY METALS.pdf\"\n",
    "metalsall_df = read_pdf(file, lattice = True, pages=\"all\")\n",
    "cd_df = read_pdf(file, lattice = True, pages=[1,2,3])\n",
    "cr_df = read_pdf(file, lattice = True, pages=4)\n",
    "cu_df = read_pdf(file, lattice = True, pages=5)\n",
    "pb_df = read_pdf(file, lattice = True, pages=6)\n",
    "ni_df = read_pdf(file, lattice = True, pages=7)\n",
    "zn_df = read_pdf(file, lattice = True, pages=8)"
   ]
  },
  {
   "cell_type": "code",
   "execution_count": 24,
   "id": "28e9413e",
   "metadata": {},
   "outputs": [],
   "source": [
    "#create dictionary of species present in pdf\n",
    "#distinguish which heavy metal each species remediates\n",
    "#genus:[species]"
   ]
  },
  {
   "cell_type": "code",
   "execution_count": null,
   "id": "398c64f8",
   "metadata": {},
   "outputs": [],
   "source": [
    "cd_dict = {}\n",
    "cr_dict = {}\n",
    "cu_dict = {}\n",
    "pb_dict = {}\n",
    "ni_dict = {}\n",
    "zn_dict = {}"
   ]
  },
  {
   "cell_type": "code",
   "execution_count": 45,
   "id": "ce2aa624",
   "metadata": {},
   "outputs": [],
   "source": [
    "for genus in plants_genera:\n",
    "       if len(re.findall(f'({genus}\\\\s[a-z]*?)\\W', str(cr_df))) > 0:\n",
    "        cr_dict[genus] = re.findall(f'({genus}\\\\s[a-z]*?)\\W', str(cr_df))  "
   ]
  },
  {
   "cell_type": "code",
   "execution_count": 46,
   "id": "40d86357",
   "metadata": {},
   "outputs": [
    {
     "data": {
      "text/plain": [
       "{'Lemna': ['Lemna minor', 'Lemna minor', 'Lemna minor'],\n",
       " 'Salix': ['Salix interior',\n",
       "  'Salix humilis',\n",
       "  'Salix nigra',\n",
       "  'Salix humilis',\n",
       "  'Salix interior',\n",
       "  'Salix humilis',\n",
       "  'Salix nigra']}"
      ]
     },
     "execution_count": 46,
     "metadata": {},
     "output_type": "execute_result"
    }
   ],
   "source": [
    "cr_dict"
   ]
  },
  {
   "cell_type": "code",
   "execution_count": null,
   "id": "4e6e528f",
   "metadata": {},
   "outputs": [],
   "source": []
  },
  {
   "cell_type": "code",
   "execution_count": null,
   "id": "54be1e94",
   "metadata": {},
   "outputs": [],
   "source": []
  },
  {
   "cell_type": "code",
   "execution_count": null,
   "id": "bfd92fc0",
   "metadata": {},
   "outputs": [],
   "source": []
  }
 ],
 "metadata": {
  "kernelspec": {
   "display_name": "Python 3 (ipykernel)",
   "language": "python",
   "name": "python3"
  },
  "language_info": {
   "codemirror_mode": {
    "name": "ipython",
    "version": 3
   },
   "file_extension": ".py",
   "mimetype": "text/x-python",
   "name": "python",
   "nbconvert_exporter": "python",
   "pygments_lexer": "ipython3",
   "version": "3.9.13"
  }
 },
 "nbformat": 4,
 "nbformat_minor": 5
}
