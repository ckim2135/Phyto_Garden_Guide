{
 "cells": [
  {
   "cell_type": "code",
   "execution_count": 1,
   "id": "752ab124",
   "metadata": {},
   "outputs": [],
   "source": [
    "from tabula import read_pdf\n",
    "from tabulate import tabulate"
   ]
  },
  {
   "cell_type": "code",
   "execution_count": 7,
   "id": "efd7dc72",
   "metadata": {},
   "outputs": [],
   "source": [
    "chlorpdf = read_pdf(\"../data/WildOnes/PHYTOREMEDIATION OF CHLORINATED SOLVENTS.pdf\", pages = \"all\", multiple_tables=True)"
   ]
  },
  {
   "cell_type": "code",
   "execution_count": 8,
   "id": "9efcc8b8",
   "metadata": {},
   "outputs": [
    {
     "data": {
      "text/plain": [
       "[                NATIVE TREES FOR CHLORINATED SOLVENTS\n",
       " 0                  Contaminant Sunlight Soil Moisture\n",
       " 1   Common Name Scientific Name Targeted* Requirem...\n",
       " 2         Acer saccharinum TCE and Full sun to Medium\n",
       " 3                                        Silver Maple\n",
       " 4                   by-products, VC part shade to wet\n",
       " 5                          TCE and Full sun to Medium\n",
       " 6                            River Birch Betula nigra\n",
       " 7                   by-products, VC part shade to wet\n",
       " 8          Cercis canadensis PCE, TCE and Full sun to\n",
       " 9                              Eastern Red Bud Medium\n",
       " 10                         by-products, VC part shade\n",
       " 11                                        Liquidambar\n",
       " 12                       Sweetgum TCE Full sun Medium\n",
       " 13                                        styraciflua\n",
       " 14                                  American Platanus\n",
       " 15                         TCE Full sun Medium to wet\n",
       " 16                              Sycamore occidentalis\n",
       " 17                                       PCE, TCE and\n",
       " 18                                       by-products,\n",
       " 19                                 Pentachlorophenot,\n",
       " 20                              Eastern 1,2,4- Medium\n",
       " 21                         Populus deltoides Full sun\n",
       " 22                Cottonwood Trichlorobenzene, to wet\n",
       " 23                                             Carbon\n",
       " 24                                 tetrachloride, 1,4\n",
       " 25                                            Dioxane\n",
       " 26                                             Medium\n",
       " 27    Pin Oak Quercus palustris TEC, PCE, VC Full sun\n",
       " 28                                             to wet\n",
       " 29                         TCE and Full sun to Medium\n",
       " 30                           Black willow Salix nigra\n",
       " 31                      by-products part shade to wet,\n",
       "                   NATIVE GRASSES CHLORINATED SOLVENTS\n",
       " 0                  Contaminant Sunlight Soil Moisture\n",
       " 1   Common Name Scientific Name Targeted* Requirem...\n",
       " 2                               Tripsacum Full sun to\n",
       " 3                        Eastern Gamagrass PCE Medium\n",
       " 4                              dactyloides part shade\n",
       " 5                                      Dodecyl linear\n",
       " 6                                             alcohol\n",
       " 7   Southern cattail Typha domingensis ethoxylate,...\n",
       " 8                                      sulfonate, and\n",
       " 9                                            chloride\n",
       " 10                                     Dodecyl linear\n",
       " 11                                            alcohol\n",
       " 12                                        Full sun to\n",
       " 13  Broadleaf Cattail Typha latifolia ethoxylate, Wet\n",
       " 14                                         part shade\n",
       " 15                                     sulfonate, and\n",
       " 16                                           chloride,\n",
       "                 NATIVE FORBS FOR CHLORINATED SOLVENTS\n",
       " 0                  Contaminant Sunlight Soil Moisture\n",
       " 1   Common Name Scientific Name Targeted* Requirem...\n",
       " 2                                             TCE and\n",
       " 3       Pondweed Elodea canadensis Full sun Inundated\n",
       " 4                                         by-products\n",
       " 5                                              Dry to\n",
       " 6   Tall goldenrod Solidago altissima PCE, TCE Ful...\n",
       " 7                                              medium\n",
       " 8                                              Dry to\n",
       " 9   Forest goldenrod Solidago arguta PCE, TCE Part...\n",
       " 10                                             medium\n",
       " 11                    Blue-stemmed Full sun to Dry to\n",
       " 12                           Solidago caesia PCE, TCE\n",
       " 13                        goldenrod part shade medium\n",
       " 14                                        Full sun to\n",
       " 15  Zigzag goldenrod Solidago flexicaulis PCE, TCE...\n",
       " 16                                         part shade\n",
       " 17                                 Full sun to Medium\n",
       " 18         Giant goldenrod Solidago gigantea PCE, TCE\n",
       " 19                                  part shade to wet\n",
       " 20                                PCE, TCE and Dry to\n",
       " 21          Hairy goldenrod Solidago hispida Full sun\n",
       " 22                                 by-products medium,\n",
       "             Unnamed: 0             Solidago Unnamed: 1   Unnamed: 2  Dry to\n",
       " 0   Missouri goldenrod                  NaN   PCE, TCE     Full sun     NaN\n",
       " 1                  NaN        missouriensis        NaN          NaN  medium\n",
       " 2                  NaN                  NaN        NaN          NaN  Dry to\n",
       " 3       Gray goldenrod   Solidago nemoralis   PCE, TCE     Full sun     NaN\n",
       " 4                  NaN                  NaN        NaN          NaN  medium\n",
       " 5                  NaN                  NaN        NaN  Full sun to  Dry to\n",
       " 6      Sweet goldenrod       Solidago odora   PCE, TCE          NaN     NaN\n",
       " 7                  NaN                  NaN        NaN   part shade  medium\n",
       " 8         Downy ragged                  NaN        NaN          NaN  Dry to\n",
       " 9                  NaN  Solidago petiolaris   PCE, TCE  Partial sun     NaN\n",
       " 10           goldenrod                  NaN        NaN          NaN  medium\n",
       " 11       Western rough                  NaN        NaN  Full sun to     NaN\n",
       " 12                 NaN      Solidago radula   PCE, TCE          NaN     Dry\n",
       " 13           goldenrod                  NaN        NaN   part shade     NaN\n",
       " 14     Stiff goldenrod      Solidago rigida   PCE, TCE     Full sun  Medium\n",
       " 15                 NaN                  NaN        NaN          NaN  Medium\n",
       " 16    Rought goldenrod      Solidago rugosa   PCE, TCE     Full sun     NaN\n",
       " 17                 NaN                  NaN        NaN          NaN  to wet\n",
       " 18                 NaN                  NaN        NaN          NaN  Dry to\n",
       " 19     Showy goldenrod    Solidago speciosa   PCE, TCE     Full sun     NaN\n",
       " 20                 NaN                  NaN        NaN          NaN  medium\n",
       " 21          Elm-leaved                  NaN        NaN  Full sun to     NaN\n",
       " 22                 NaN   Solidago ulmifolia   PCE, TCE          NaN  Medium\n",
       " 23           goldenrod                  NaN        NaN   part shade     NaN]"
      ]
     },
     "execution_count": 8,
     "metadata": {},
     "output_type": "execute_result"
    }
   ],
   "source": [
    "chlorpdf"
   ]
  },
  {
   "cell_type": "code",
   "execution_count": null,
   "id": "a4ced92a",
   "metadata": {},
   "outputs": [],
   "source": []
  }
 ],
 "metadata": {
  "kernelspec": {
   "display_name": "Python 3 (ipykernel)",
   "language": "python",
   "name": "python3"
  },
  "language_info": {
   "codemirror_mode": {
    "name": "ipython",
    "version": 3
   },
   "file_extension": ".py",
   "mimetype": "text/x-python",
   "name": "python",
   "nbconvert_exporter": "python",
   "pygments_lexer": "ipython3",
   "version": "3.9.13"
  }
 },
 "nbformat": 4,
 "nbformat_minor": 5
}
